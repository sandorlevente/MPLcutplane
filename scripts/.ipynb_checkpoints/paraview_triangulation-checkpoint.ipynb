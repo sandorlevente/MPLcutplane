{
 "cells": [
  {
   "cell_type": "markdown",
   "metadata": {},
   "source": [
    "# Paraview triangulation script"
   ]
  },
  {
   "cell_type": "markdown",
   "metadata": {},
   "source": [
    "### Loading libraries"
   ]
  },
  {
   "cell_type": "code",
   "execution_count": 1,
   "metadata": {},
   "outputs": [],
   "source": [
    "import paraview.simple as pvs\n",
    "import os"
   ]
  },
  {
   "cell_type": "code",
   "execution_count": 2,
   "metadata": {},
   "outputs": [
    {
     "name": "stdout",
     "output_type": "stream",
     "text": [
      "contour_mpl.ipynb  paraview_triangulation.ipynb  probe_postprocessor.ipynb\n"
     ]
    }
   ],
   "source": [
    "!ls"
   ]
  },
  {
   "cell_type": "markdown",
   "metadata": {},
   "source": [
    "# Getting the filelist\n",
    "Be careful with hidden .something files!"
   ]
  },
  {
   "cell_type": "code",
   "execution_count": 3,
   "metadata": {},
   "outputs": [],
   "source": [
    "def getListOfFiles(dirName):\n",
    "    # create a list of file and sub directories \n",
    "    # names in the given directory \n",
    "    listOfFile = os.listdir(dirName)\n",
    "    allFiles = list()\n",
    "    # Iterate over all the entries\n",
    "    for entry in listOfFile:\n",
    "        # Create full path\n",
    "        fullPath = os.path.join(dirName, entry)\n",
    "        # If entry is a directory then get the list of files in this directory \n",
    "        if os.path.isdir(fullPath):\n",
    "            allFiles = allFiles + getListOfFiles(fullPath)\n",
    "        else:\n",
    "            allFiles.append(fullPath)\n",
    "                \n",
    "    return allFiles"
   ]
  },
  {
   "cell_type": "code",
   "execution_count": 4,
   "metadata": {},
   "outputs": [],
   "source": [
    "fileList = getListOfFiles('../postProcessing/cuttingPlanes/')\n",
    "fileList = [el for el in fileList if '.vtk' in el]"
   ]
  },
  {
   "cell_type": "code",
   "execution_count": 5,
   "metadata": {},
   "outputs": [
    {
     "data": {
      "text/plain": [
       "'../postProcessing/triangulatedCuttingPlanes/p_T07_3000.vtk'"
      ]
     },
     "execution_count": 5,
     "metadata": {},
     "output_type": "execute_result"
    }
   ],
   "source": [
    "os.path.join('../postProcessing/triangulatedCuttingPlanes/', '{}_{}{}'.format((os.path.splitext(os.path.basename(fileList[1]))[0]),os.path.basename(os.path.dirname(fileList[1])),(os.path.splitext(os.path.basename(fileList[1]))[1])))"
   ]
  },
  {
   "cell_type": "markdown",
   "metadata": {},
   "source": [
    "### Paraview triangulation loop\n",
    "It collects all the .vtk into one folder with the corresponding timestep"
   ]
  },
  {
   "cell_type": "code",
   "execution_count": 6,
   "metadata": {},
   "outputs": [
    {
     "name": "stdout",
     "output_type": "stream",
     "text": [
      "mkdir: cannot create directory ‘../postProcessing/triangulatedCuttingPlanes’: File exists\n"
     ]
    }
   ],
   "source": [
    "!mkdir ../postProcessing/triangulatedCuttingPlanes"
   ]
  },
  {
   "cell_type": "code",
   "execution_count": null,
   "metadata": {},
   "outputs": [
    {
     "name": "stdout",
     "output_type": "stream",
     "text": [
      "../postProcessing/cuttingPlanes/3000/U_V06.vtk triangulated\n",
      "../postProcessing/cuttingPlanes/3000/p_T07.vtk triangulated\n",
      "../postProcessing/cuttingPlanes/3000/U_mV01.vtk triangulated\n",
      "../postProcessing/cuttingPlanes/3000/vorticity_V01.vtk triangulated\n",
      "../postProcessing/cuttingPlanes/3000/vorticity_T10.vtk triangulated\n",
      "../postProcessing/cuttingPlanes/3000/p_V02.vtk triangulated\n",
      "../postProcessing/cuttingPlanes/3000/k_H02.vtk triangulated\n",
      "../postProcessing/cuttingPlanes/3000/p_T10.vtk triangulated\n",
      "../postProcessing/cuttingPlanes/3000/U_T07.vtk triangulated\n",
      "../postProcessing/cuttingPlanes/3000/vorticity_T12.vtk triangulated\n",
      "../postProcessing/cuttingPlanes/3000/vorticity_H05.vtk triangulated\n",
      "../postProcessing/cuttingPlanes/3000/k_V02.vtk triangulated\n",
      "../postProcessing/cuttingPlanes/3000/vorticity_T04.vtk triangulated\n",
      "../postProcessing/cuttingPlanes/3000/k_T07.vtk triangulated\n",
      "../postProcessing/cuttingPlanes/3000/U_V01.vtk triangulated\n",
      "../postProcessing/cuttingPlanes/3000/Q_T01.vtk triangulated\n",
      "../postProcessing/cuttingPlanes/3000/p_T14.vtk triangulated\n",
      "../postProcessing/cuttingPlanes/3000/U_mV02.vtk triangulated\n",
      "../postProcessing/cuttingPlanes/3000/vorticity_mV02.vtk triangulated\n",
      "../postProcessing/cuttingPlanes/3000/Q_mV01.vtk triangulated\n",
      "../postProcessing/cuttingPlanes/3000/Q_V04.vtk triangulated\n",
      "../postProcessing/cuttingPlanes/3000/vorticity_T09.vtk triangulated\n",
      "../postProcessing/cuttingPlanes/3000/vorticity_T13.vtk triangulated\n",
      "../postProcessing/cuttingPlanes/3000/p_T13.vtk triangulated\n",
      "../postProcessing/cuttingPlanes/3000/Q_T13.vtk triangulated\n",
      "../postProcessing/cuttingPlanes/3000/p_V05.vtk triangulated\n",
      "../postProcessing/cuttingPlanes/3000/k_T04.vtk triangulated\n",
      "../postProcessing/cuttingPlanes/3000/vorticity_T07.vtk triangulated\n",
      "../postProcessing/cuttingPlanes/3000/U_T01.vtk triangulated\n",
      "../postProcessing/cuttingPlanes/3000/U_H05.vtk triangulated\n",
      "../postProcessing/cuttingPlanes/3000/p_H01.vtk triangulated\n",
      "../postProcessing/cuttingPlanes/3000/k_T00.vtk triangulated\n",
      "../postProcessing/cuttingPlanes/3000/p_H06.vtk triangulated\n",
      "../postProcessing/cuttingPlanes/3000/U_T05.vtk triangulated\n",
      "../postProcessing/cuttingPlanes/3000/Q_T07.vtk triangulated\n",
      "../postProcessing/cuttingPlanes/3000/p_mV01.vtk triangulated\n",
      "../postProcessing/cuttingPlanes/3000/p_T00.vtk triangulated\n",
      "../postProcessing/cuttingPlanes/3000/Q_V01.vtk triangulated\n",
      "../postProcessing/cuttingPlanes/3000/Q_T10.vtk triangulated\n",
      "../postProcessing/cuttingPlanes/3000/k_T10.vtk triangulated\n",
      "../postProcessing/cuttingPlanes/3000/U_H04.vtk triangulated\n",
      "../postProcessing/cuttingPlanes/3000/p_mV03.vtk triangulated\n",
      "../postProcessing/cuttingPlanes/3000/k_T13.vtk triangulated\n",
      "../postProcessing/cuttingPlanes/3000/Q_mV03.vtk triangulated\n",
      "../postProcessing/cuttingPlanes/3000/vorticity_T02.vtk triangulated\n",
      "../postProcessing/cuttingPlanes/3000/vorticity_H04.vtk triangulated\n",
      "../postProcessing/cuttingPlanes/3000/p_V03.vtk triangulated\n",
      "../postProcessing/cuttingPlanes/3000/Q_T12.vtk triangulated\n",
      "../postProcessing/cuttingPlanes/3000/U_V07.vtk triangulated\n",
      "../postProcessing/cuttingPlanes/3000/Q_V02.vtk triangulated\n",
      "../postProcessing/cuttingPlanes/3000/k_T03.vtk triangulated\n",
      "../postProcessing/cuttingPlanes/3000/vorticity_T00.vtk triangulated\n",
      "../postProcessing/cuttingPlanes/3000/vorticity_H02.vtk triangulated\n",
      "../postProcessing/cuttingPlanes/3000/p_V06.vtk triangulated\n",
      "../postProcessing/cuttingPlanes/3000/vorticity_V06.vtk triangulated\n",
      "../postProcessing/cuttingPlanes/3000/U_T14.vtk triangulated\n",
      "../postProcessing/cuttingPlanes/3000/vorticity_T01.vtk triangulated\n",
      "../postProcessing/cuttingPlanes/3000/Q_V05.vtk triangulated\n",
      "../postProcessing/cuttingPlanes/3000/k_H05.vtk triangulated\n",
      "../postProcessing/cuttingPlanes/3000/vorticity_V03.vtk triangulated\n",
      "../postProcessing/cuttingPlanes/3000/Q_T09.vtk triangulated\n",
      "../postProcessing/cuttingPlanes/3000/k_H04.vtk triangulated\n",
      "../postProcessing/cuttingPlanes/3000/U_T08.vtk triangulated\n",
      "../postProcessing/cuttingPlanes/3000/k_H01.vtk triangulated\n",
      "../postProcessing/cuttingPlanes/3000/p_T12.vtk triangulated\n",
      "../postProcessing/cuttingPlanes/3000/vorticity_V05.vtk triangulated\n",
      "../postProcessing/cuttingPlanes/3000/Q_T00.vtk triangulated\n",
      "../postProcessing/cuttingPlanes/3000/k_T08.vtk triangulated\n",
      "../postProcessing/cuttingPlanes/3000/U_T02.vtk triangulated\n",
      "../postProcessing/cuttingPlanes/3000/k_V01.vtk triangulated\n",
      "../postProcessing/cuttingPlanes/3000/U_T00.vtk triangulated\n",
      "../postProcessing/cuttingPlanes/3000/p_H03.vtk triangulated\n",
      "../postProcessing/cuttingPlanes/3000/Q_V03.vtk triangulated\n",
      "../postProcessing/cuttingPlanes/3000/Q_H06.vtk triangulated\n",
      "../postProcessing/cuttingPlanes/3000/vorticity_V07.vtk triangulated\n",
      "../postProcessing/cuttingPlanes/3000/U_T09.vtk triangulated\n",
      "../postProcessing/cuttingPlanes/3000/k_V05.vtk triangulated\n",
      "../postProcessing/cuttingPlanes/3000/Q_T08.vtk triangulated\n",
      "../postProcessing/cuttingPlanes/3000/vorticity_T03.vtk triangulated\n",
      "../postProcessing/cuttingPlanes/3000/U_V05.vtk triangulated\n",
      "../postProcessing/cuttingPlanes/3000/p_T02.vtk triangulated\n",
      "../postProcessing/cuttingPlanes/3000/p_H05.vtk triangulated\n",
      "../postProcessing/cuttingPlanes/3000/U_T03.vtk triangulated\n",
      "../postProcessing/cuttingPlanes/3000/k_mV02.vtk triangulated\n",
      "../postProcessing/cuttingPlanes/3000/p_T05.vtk triangulated\n",
      "../postProcessing/cuttingPlanes/3000/k_mV01.vtk triangulated\n",
      "../postProcessing/cuttingPlanes/3000/k_V03.vtk triangulated\n",
      "../postProcessing/cuttingPlanes/3000/k_H06.vtk triangulated\n",
      "../postProcessing/cuttingPlanes/3000/p_T04.vtk triangulated\n",
      "../postProcessing/cuttingPlanes/3000/U_T13.vtk triangulated\n",
      "../postProcessing/cuttingPlanes/3000/k_mV03.vtk triangulated\n",
      "../postProcessing/cuttingPlanes/3000/k_V07.vtk triangulated\n",
      "../postProcessing/cuttingPlanes/3000/p_V07.vtk triangulated\n",
      "../postProcessing/cuttingPlanes/3000/U_T10.vtk triangulated\n",
      "../postProcessing/cuttingPlanes/3000/U_H06.vtk triangulated\n",
      "../postProcessing/cuttingPlanes/3000/Q_H04.vtk triangulated\n",
      "../postProcessing/cuttingPlanes/3000/U_T12.vtk triangulated\n",
      "../postProcessing/cuttingPlanes/3000/k_T02.vtk triangulated\n",
      "../postProcessing/cuttingPlanes/3000/p_H04.vtk triangulated\n",
      "../postProcessing/cuttingPlanes/3000/k_T09.vtk triangulated\n",
      "../postProcessing/cuttingPlanes/3000/p_V04.vtk triangulated\n",
      "../postProcessing/cuttingPlanes/3000/U_H03.vtk triangulated\n",
      "../postProcessing/cuttingPlanes/3000/U_H01.vtk triangulated\n",
      "../postProcessing/cuttingPlanes/3000/Q_T02.vtk triangulated\n",
      "../postProcessing/cuttingPlanes/3000/k_T05.vtk triangulated\n",
      "../postProcessing/cuttingPlanes/3000/k_T12.vtk triangulated\n",
      "../postProcessing/cuttingPlanes/3000/U_V04.vtk triangulated\n",
      "../postProcessing/cuttingPlanes/3000/vorticity_mV01.vtk triangulated\n",
      "../postProcessing/cuttingPlanes/3000/vorticity_T08.vtk triangulated\n",
      "../postProcessing/cuttingPlanes/3000/Q_H03.vtk triangulated\n",
      "../postProcessing/cuttingPlanes/3000/Q_H05.vtk triangulated\n",
      "../postProcessing/cuttingPlanes/3000/p_V01.vtk triangulated\n",
      "../postProcessing/cuttingPlanes/3000/p_H02.vtk triangulated\n",
      "../postProcessing/cuttingPlanes/3000/Q_H02.vtk triangulated\n",
      "../postProcessing/cuttingPlanes/3000/U_V02.vtk triangulated\n",
      "../postProcessing/cuttingPlanes/3000/Q_mV02.vtk triangulated\n",
      "../postProcessing/cuttingPlanes/3000/U_V03.vtk triangulated\n",
      "../postProcessing/cuttingPlanes/3000/Q_T03.vtk triangulated\n",
      "../postProcessing/cuttingPlanes/3000/U_mV03.vtk triangulated\n",
      "../postProcessing/cuttingPlanes/3000/Q_V07.vtk triangulated\n",
      "../postProcessing/cuttingPlanes/3000/k_V06.vtk triangulated\n",
      "../postProcessing/cuttingPlanes/3000/vorticity_T05.vtk triangulated\n",
      "../postProcessing/cuttingPlanes/3000/k_T01.vtk triangulated\n",
      "../postProcessing/cuttingPlanes/3000/U_T04.vtk triangulated\n",
      "../postProcessing/cuttingPlanes/3000/p_T03.vtk triangulated\n",
      "../postProcessing/cuttingPlanes/3000/Q_T14.vtk triangulated\n",
      "../postProcessing/cuttingPlanes/3000/Q_V06.vtk triangulated\n",
      "../postProcessing/cuttingPlanes/3000/p_T09.vtk triangulated\n",
      "../postProcessing/cuttingPlanes/3000/vorticity_V04.vtk triangulated\n",
      "../postProcessing/cuttingPlanes/3000/Q_T05.vtk triangulated\n",
      "../postProcessing/cuttingPlanes/3000/vorticity_H03.vtk triangulated\n"
     ]
    }
   ],
   "source": [
    "for i in range(0, len(fileList)):\n",
    "    pvdata=pvs.LegacyVTKReader(FileNames=fileList[i])\n",
    "    clean1=pvs.Clean(Input=pvdata)\n",
    "    clean1.PieceInvariant = 0\n",
    "    clean1.AbsoluteTolerance = 0.0000001\n",
    "    clean1.ToleranceIsAbsolute = 1\n",
    "    clean1.ConvertLinesToPoints = 0\n",
    "    clean1.ConvertPolysToLines = 0\n",
    "    clean1.ConvertStripsToPolys = 0\n",
    "    triang = pvs.Triangulate(Input=clean1)\n",
    "    pvs.SaveData(filename=os.path.join('../postProcessing/triangulatedCuttingPlanes/', '{}_{}{}'.format((os.path.splitext(os.path.basename(fileList[i]))[0]),os.path.basename(os.path.dirname(fileList[i])),(os.path.splitext(os.path.basename(fileList[i]))[1]))), proxy=triang, FileType='Ascii')\n",
    "    print(fileList[i],'triangulated')"
   ]
  },
  {
   "cell_type": "code",
   "execution_count": null,
   "metadata": {},
   "outputs": [],
   "source": []
  }
 ],
 "metadata": {
  "kernelspec": {
   "display_name": "Python 3",
   "language": "python",
   "name": "python3"
  },
  "language_info": {
   "codemirror_mode": {
    "name": "ipython",
    "version": 3
   },
   "file_extension": ".py",
   "mimetype": "text/x-python",
   "name": "python",
   "nbconvert_exporter": "python",
   "pygments_lexer": "ipython3",
   "version": "3.7.3"
  }
 },
 "nbformat": 4,
 "nbformat_minor": 4
}
