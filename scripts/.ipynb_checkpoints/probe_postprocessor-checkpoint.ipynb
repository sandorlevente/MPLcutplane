{
 "cells": [
  {
   "cell_type": "markdown",
   "metadata": {},
   "source": [
    "# Probe postprocessor"
   ]
  },
  {
   "cell_type": "code",
   "execution_count": 2,
   "metadata": {},
   "outputs": [],
   "source": [
    "import numpy as np\n",
    "import matplotlib.pyplot as plt\n",
    "import pandas as pd"
   ]
  },
  {
   "cell_type": "code",
   "execution_count": 49,
   "metadata": {},
   "outputs": [
    {
     "data": {
      "text/html": [
       "<div>\n",
       "<style scoped>\n",
       "    .dataframe tbody tr th:only-of-type {\n",
       "        vertical-align: middle;\n",
       "    }\n",
       "\n",
       "    .dataframe tbody tr th {\n",
       "        vertical-align: top;\n",
       "    }\n",
       "\n",
       "    .dataframe thead th {\n",
       "        text-align: right;\n",
       "    }\n",
       "</style>\n",
       "<table border=\"1\" class=\"dataframe\">\n",
       "  <thead>\n",
       "    <tr style=\"text-align: right;\">\n",
       "      <th></th>\n",
       "      <th>time</th>\n",
       "      <th>probe1</th>\n",
       "      <th>probe2</th>\n",
       "      <th>probe3</th>\n",
       "    </tr>\n",
       "  </thead>\n",
       "  <tbody>\n",
       "    <tr>\n",
       "      <th>0</th>\n",
       "      <td>4201</td>\n",
       "      <td>99999.9</td>\n",
       "      <td>-1.79769e+307</td>\n",
       "      <td>100000</td>\n",
       "    </tr>\n",
       "    <tr>\n",
       "      <th>1</th>\n",
       "      <td>4202</td>\n",
       "      <td>99999.9</td>\n",
       "      <td>-1.79769e+307</td>\n",
       "      <td>100000</td>\n",
       "    </tr>\n",
       "    <tr>\n",
       "      <th>2</th>\n",
       "      <td>4203</td>\n",
       "      <td>99999.9</td>\n",
       "      <td>-1.79769e+307</td>\n",
       "      <td>100000</td>\n",
       "    </tr>\n",
       "    <tr>\n",
       "      <th>3</th>\n",
       "      <td>4204</td>\n",
       "      <td>99999.9</td>\n",
       "      <td>-1.79769e+307</td>\n",
       "      <td>100000</td>\n",
       "    </tr>\n",
       "    <tr>\n",
       "      <th>4</th>\n",
       "      <td>4205</td>\n",
       "      <td>99999.9</td>\n",
       "      <td>-1.79769e+307</td>\n",
       "      <td>100000</td>\n",
       "    </tr>\n",
       "    <tr>\n",
       "      <th>5</th>\n",
       "      <td>4206</td>\n",
       "      <td>99999.9</td>\n",
       "      <td>-1.79769e+307</td>\n",
       "      <td>100000</td>\n",
       "    </tr>\n",
       "    <tr>\n",
       "      <th>6</th>\n",
       "      <td>4207</td>\n",
       "      <td>99999.9</td>\n",
       "      <td>-1.79769e+307</td>\n",
       "      <td>100000</td>\n",
       "    </tr>\n",
       "    <tr>\n",
       "      <th>7</th>\n",
       "      <td>4208</td>\n",
       "      <td>99999.9</td>\n",
       "      <td>-1.79769e+307</td>\n",
       "      <td>100000</td>\n",
       "    </tr>\n",
       "    <tr>\n",
       "      <th>8</th>\n",
       "      <td>4209</td>\n",
       "      <td>99999.9</td>\n",
       "      <td>-1.79769e+307</td>\n",
       "      <td>100000</td>\n",
       "    </tr>\n",
       "    <tr>\n",
       "      <th>9</th>\n",
       "      <td>4210</td>\n",
       "      <td>99999.9</td>\n",
       "      <td>-1.79769e+307</td>\n",
       "      <td>100000</td>\n",
       "    </tr>\n",
       "  </tbody>\n",
       "</table>\n",
       "</div>"
      ],
      "text/plain": [
       "   time   probe1         probe2  probe3\n",
       "0  4201  99999.9  -1.79769e+307  100000\n",
       "1  4202  99999.9  -1.79769e+307  100000\n",
       "2  4203  99999.9  -1.79769e+307  100000\n",
       "3  4204  99999.9  -1.79769e+307  100000\n",
       "4  4205  99999.9  -1.79769e+307  100000\n",
       "5  4206  99999.9  -1.79769e+307  100000\n",
       "6  4207  99999.9  -1.79769e+307  100000\n",
       "7  4208  99999.9  -1.79769e+307  100000\n",
       "8  4209  99999.9  -1.79769e+307  100000\n",
       "9  4210  99999.9  -1.79769e+307  100000"
      ]
     },
     "execution_count": 49,
     "metadata": {},
     "output_type": "execute_result"
    }
   ],
   "source": [
    "df=pd.read_csv('../postProcessing/probes/4200/p', sep='\\s+', skiprows=5, header=None,  names=['time', 'probe1', 'probe2', 'probe3'])\n",
    "df"
   ]
  },
  {
   "cell_type": "code",
   "execution_count": 4,
   "metadata": {},
   "outputs": [
    {
     "data": {
      "text/plain": [
       "<matplotlib.collections.PathCollection at 0x7f5f359f66d0>"
      ]
     },
     "execution_count": 4,
     "metadata": {},
     "output_type": "execute_result"
    },
    {
     "data": {
      "image/png": "[encoded data removed]",
      "text/plain": [
       "<Figure size 432x288 with 1 Axes>"
      ]
     },
     "metadata": {
      "needs_background": "light"
     },
     "output_type": "display_data"
    }
   ],
   "source": [
    "plt.scatter(df.time, df.probe1)"
   ]
  },
  {
   "cell_type": "code",
   "execution_count": 10,
   "metadata": {},
   "outputs": [],
   "source": []
  },
  {
   "cell_type": "code",
   "execution_count": 58,
   "metadata": {},
   "outputs": [],
   "source": [
    "df=pd.read_csv('../postProcessing/all_force/4200/forces.dat', sep='\\s+', skiprows=3, header=None, dtype=str,)\n",
    "df = df.iloc[:, :-12]\n",
    "names=['time', 'f_pres_x','f_pres_y','f_pres_z','f_visc_x','f_visc_y','f_visc_z']\n",
    "df.columns=names\n",
    "columns = list(df) \n",
    "for i in columns:\n",
    "    df[i]=df[i].str.replace('(', '',regex=True)\n",
    "    df[i]=df[i].str.replace(')', '',regex=True)\n",
    "    df[i] = df[i].astype(float)\n",
    "    \n",
    "forces_all=df"
   ]
  },
  {
   "cell_type": "code",
   "execution_count": 63,
   "metadata": {},
   "outputs": [
    {
     "data": {
      "text/html": [
       "<div>\n",
       "<style scoped>\n",
       "    .dataframe tbody tr th:only-of-type {\n",
       "        vertical-align: middle;\n",
       "    }\n",
       "\n",
       "    .dataframe tbody tr th {\n",
       "        vertical-align: top;\n",
       "    }\n",
       "\n",
       "    .dataframe thead th {\n",
       "        text-align: right;\n",
       "    }\n",
       "</style>\n",
       "<table border=\"1\" class=\"dataframe\">\n",
       "  <thead>\n",
       "    <tr style=\"text-align: right;\">\n",
       "      <th></th>\n",
       "      <th>time</th>\n",
       "      <th>f_pres_x</th>\n",
       "      <th>f_pres_y</th>\n",
       "      <th>f_pres_z</th>\n",
       "      <th>f_visc_x</th>\n",
       "      <th>f_visc_y</th>\n",
       "      <th>f_visc_z</th>\n",
       "    </tr>\n",
       "  </thead>\n",
       "  <tbody>\n",
       "    <tr>\n",
       "      <th>0</th>\n",
       "      <td>4201.0</td>\n",
       "      <td>0.172476</td>\n",
       "      <td>16142.58</td>\n",
       "      <td>-285.4529</td>\n",
       "      <td>0.028829</td>\n",
       "      <td>-0.004227</td>\n",
       "      <td>0.001636</td>\n",
       "    </tr>\n",
       "    <tr>\n",
       "      <th>1</th>\n",
       "      <td>4202.0</td>\n",
       "      <td>0.172507</td>\n",
       "      <td>16142.58</td>\n",
       "      <td>-285.4524</td>\n",
       "      <td>0.028835</td>\n",
       "      <td>-0.004231</td>\n",
       "      <td>0.001633</td>\n",
       "    </tr>\n",
       "    <tr>\n",
       "      <th>2</th>\n",
       "      <td>4203.0</td>\n",
       "      <td>0.172533</td>\n",
       "      <td>16142.58</td>\n",
       "      <td>-285.4522</td>\n",
       "      <td>0.028841</td>\n",
       "      <td>-0.004235</td>\n",
       "      <td>0.001630</td>\n",
       "    </tr>\n",
       "    <tr>\n",
       "      <th>3</th>\n",
       "      <td>4204.0</td>\n",
       "      <td>0.172552</td>\n",
       "      <td>16142.58</td>\n",
       "      <td>-285.4520</td>\n",
       "      <td>0.028847</td>\n",
       "      <td>-0.004240</td>\n",
       "      <td>0.001626</td>\n",
       "    </tr>\n",
       "    <tr>\n",
       "      <th>4</th>\n",
       "      <td>4205.0</td>\n",
       "      <td>0.172576</td>\n",
       "      <td>16142.58</td>\n",
       "      <td>-285.4519</td>\n",
       "      <td>0.028853</td>\n",
       "      <td>-0.004244</td>\n",
       "      <td>0.001622</td>\n",
       "    </tr>\n",
       "  </tbody>\n",
       "</table>\n",
       "</div>"
      ],
      "text/plain": [
       "     time  f_pres_x  f_pres_y  f_pres_z  f_visc_x  f_visc_y  f_visc_z\n",
       "0  4201.0  0.172476  16142.58 -285.4529  0.028829 -0.004227  0.001636\n",
       "1  4202.0  0.172507  16142.58 -285.4524  0.028835 -0.004231  0.001633\n",
       "2  4203.0  0.172533  16142.58 -285.4522  0.028841 -0.004235  0.001630\n",
       "3  4204.0  0.172552  16142.58 -285.4520  0.028847 -0.004240  0.001626\n",
       "4  4205.0  0.172576  16142.58 -285.4519  0.028853 -0.004244  0.001622"
      ]
     },
     "execution_count": 63,
     "metadata": {},
     "output_type": "execute_result"
    }
   ],
   "source": [
    "forces_all.head()"
   ]
  },
  {
   "cell_type": "code",
   "execution_count": 62,
   "metadata": {},
   "outputs": [
    {
     "data": {
      "text/plain": [
       "[<matplotlib.lines.Line2D at 0x7f5f25b8ec90>]"
      ]
     },
     "execution_count": 62,
     "metadata": {},
     "output_type": "execute_result"
    },
    {
     "data": {
      "image/png": "[encoded data removed]",
      "text/plain": [
       "<Figure size 432x288 with 1 Axes>"
      ]
     },
     "metadata": {
      "needs_background": "light"
     },
     "output_type": "display_data"
    }
   ],
   "source": [
    "plt.plot(forces_all.time, forces_all.f_pres_x+forces_all.f_visc_x)"
   ]
  },
  {
   "cell_type": "code",
   "execution_count": 54,
   "metadata": {},
   "outputs": [
    {
     "name": "stdout",
     "output_type": "stream",
     "text": [
      "<class 'pandas.core.frame.DataFrame'>\n",
      "RangeIndex: 16 entries, 0 to 15\n",
      "Data columns (total 7 columns):\n",
      "time        16 non-null float64\n",
      "f_pres_x    16 non-null float64\n",
      "f_pres_y    16 non-null float64\n",
      "f_pres_z    16 non-null float64\n",
      "f_visc_x    16 non-null float64\n",
      "f_visc_y    16 non-null float64\n",
      "f_visc_z    16 non-null float64\n",
      "dtypes: float64(7)\n",
      "memory usage: 1.0 KB\n"
     ]
    }
   ],
   "source": []
  },
  {
   "cell_type": "code",
   "execution_count": null,
   "metadata": {},
   "outputs": [],
   "source": []
  }
 ],
 "metadata": {
  "kernelspec": {
   "display_name": "Python 3",
   "language": "python",
   "name": "python3"
  },
  "language_info": {
   "codemirror_mode": {
    "name": "ipython",
    "version": 3
   },
   "file_extension": ".py",
   "mimetype": "text/x-python",
   "name": "python",
   "nbconvert_exporter": "python",
   "pygments_lexer": "ipython3",
   "version": "3.7.4"
  }
 },
 "nbformat": 4,
 "nbformat_minor": 4
}
